{
 "cells": [
  {
   "cell_type": "markdown",
   "metadata": {},
   "source": [
    "# Neural Network Titanic Data approach"
   ]
  },
  {
   "cell_type": "markdown",
   "metadata": {},
   "source": [
    "This is my initial attempt to get a Neural Net up and running around the titanic data."
   ]
  },
  {
   "cell_type": "code",
   "execution_count": 70,
   "metadata": {},
   "outputs": [],
   "source": [
    "import pandas as pd\n",
    "import numpy as np\n",
    "from sklearn.model_selection import train_test_split\n",
    "from sklearn.preprocessing import StandardScaler\n",
    "from sklearn.neural_network import MLPClassifier\n",
    "from sklearn.metrics import classification_report,confusion_matrix"
   ]
  },
  {
   "cell_type": "code",
   "execution_count": 7,
   "metadata": {},
   "outputs": [
    {
     "data": {
      "text/html": [
       "<div>\n",
       "<style scoped>\n",
       "    .dataframe tbody tr th:only-of-type {\n",
       "        vertical-align: middle;\n",
       "    }\n",
       "\n",
       "    .dataframe tbody tr th {\n",
       "        vertical-align: top;\n",
       "    }\n",
       "\n",
       "    .dataframe thead th {\n",
       "        text-align: right;\n",
       "    }\n",
       "</style>\n",
       "<table border=\"1\" class=\"dataframe\">\n",
       "  <thead>\n",
       "    <tr style=\"text-align: right;\">\n",
       "      <th></th>\n",
       "      <th>Survived</th>\n",
       "      <th>Pclass</th>\n",
       "      <th>Name</th>\n",
       "      <th>Sex</th>\n",
       "      <th>Age</th>\n",
       "      <th>SibSp</th>\n",
       "      <th>Parch</th>\n",
       "      <th>Ticket</th>\n",
       "      <th>Fare</th>\n",
       "      <th>Cabin</th>\n",
       "      <th>Embarked</th>\n",
       "    </tr>\n",
       "    <tr>\n",
       "      <th>PassengerId</th>\n",
       "      <th></th>\n",
       "      <th></th>\n",
       "      <th></th>\n",
       "      <th></th>\n",
       "      <th></th>\n",
       "      <th></th>\n",
       "      <th></th>\n",
       "      <th></th>\n",
       "      <th></th>\n",
       "      <th></th>\n",
       "      <th></th>\n",
       "    </tr>\n",
       "  </thead>\n",
       "  <tbody>\n",
       "    <tr>\n",
       "      <th>1</th>\n",
       "      <td>0</td>\n",
       "      <td>3</td>\n",
       "      <td>Braund, Mr. Owen Harris</td>\n",
       "      <td>male</td>\n",
       "      <td>22.0</td>\n",
       "      <td>1</td>\n",
       "      <td>0</td>\n",
       "      <td>A/5 21171</td>\n",
       "      <td>7.2500</td>\n",
       "      <td>NaN</td>\n",
       "      <td>S</td>\n",
       "    </tr>\n",
       "    <tr>\n",
       "      <th>2</th>\n",
       "      <td>1</td>\n",
       "      <td>1</td>\n",
       "      <td>Cumings, Mrs. John Bradley (Florence Briggs Th...</td>\n",
       "      <td>female</td>\n",
       "      <td>38.0</td>\n",
       "      <td>1</td>\n",
       "      <td>0</td>\n",
       "      <td>PC 17599</td>\n",
       "      <td>71.2833</td>\n",
       "      <td>C85</td>\n",
       "      <td>C</td>\n",
       "    </tr>\n",
       "    <tr>\n",
       "      <th>3</th>\n",
       "      <td>1</td>\n",
       "      <td>3</td>\n",
       "      <td>Heikkinen, Miss. Laina</td>\n",
       "      <td>female</td>\n",
       "      <td>26.0</td>\n",
       "      <td>0</td>\n",
       "      <td>0</td>\n",
       "      <td>STON/O2. 3101282</td>\n",
       "      <td>7.9250</td>\n",
       "      <td>NaN</td>\n",
       "      <td>S</td>\n",
       "    </tr>\n",
       "    <tr>\n",
       "      <th>4</th>\n",
       "      <td>1</td>\n",
       "      <td>1</td>\n",
       "      <td>Futrelle, Mrs. Jacques Heath (Lily May Peel)</td>\n",
       "      <td>female</td>\n",
       "      <td>35.0</td>\n",
       "      <td>1</td>\n",
       "      <td>0</td>\n",
       "      <td>113803</td>\n",
       "      <td>53.1000</td>\n",
       "      <td>C123</td>\n",
       "      <td>S</td>\n",
       "    </tr>\n",
       "    <tr>\n",
       "      <th>5</th>\n",
       "      <td>0</td>\n",
       "      <td>3</td>\n",
       "      <td>Allen, Mr. William Henry</td>\n",
       "      <td>male</td>\n",
       "      <td>35.0</td>\n",
       "      <td>0</td>\n",
       "      <td>0</td>\n",
       "      <td>373450</td>\n",
       "      <td>8.0500</td>\n",
       "      <td>NaN</td>\n",
       "      <td>S</td>\n",
       "    </tr>\n",
       "  </tbody>\n",
       "</table>\n",
       "</div>"
      ],
      "text/plain": [
       "             Survived  Pclass  \\\n",
       "PassengerId                     \n",
       "1                   0       3   \n",
       "2                   1       1   \n",
       "3                   1       3   \n",
       "4                   1       1   \n",
       "5                   0       3   \n",
       "\n",
       "                                                          Name     Sex   Age  \\\n",
       "PassengerId                                                                    \n",
       "1                                      Braund, Mr. Owen Harris    male  22.0   \n",
       "2            Cumings, Mrs. John Bradley (Florence Briggs Th...  female  38.0   \n",
       "3                                       Heikkinen, Miss. Laina  female  26.0   \n",
       "4                 Futrelle, Mrs. Jacques Heath (Lily May Peel)  female  35.0   \n",
       "5                                     Allen, Mr. William Henry    male  35.0   \n",
       "\n",
       "             SibSp  Parch            Ticket     Fare Cabin Embarked  \n",
       "PassengerId                                                          \n",
       "1                1      0         A/5 21171   7.2500   NaN        S  \n",
       "2                1      0          PC 17599  71.2833   C85        C  \n",
       "3                0      0  STON/O2. 3101282   7.9250   NaN        S  \n",
       "4                1      0            113803  53.1000  C123        S  \n",
       "5                0      0            373450   8.0500   NaN        S  "
      ]
     },
     "execution_count": 7,
     "metadata": {},
     "output_type": "execute_result"
    }
   ],
   "source": [
    "passengers_data = pd.read_csv(\"titanic_data/train.csv\", index_col=\"PassengerId\")\n",
    "passengers_data.head()"
   ]
  },
  {
   "cell_type": "markdown",
   "metadata": {},
   "source": [
    "The first thing we can do is look at gender and age. We can translater `gender` to `isMale` and we can scale and normalize `age`."
   ]
  },
  {
   "cell_type": "code",
   "execution_count": 15,
   "metadata": {},
   "outputs": [
    {
     "data": {
      "text/html": [
       "<div>\n",
       "<style scoped>\n",
       "    .dataframe tbody tr th:only-of-type {\n",
       "        vertical-align: middle;\n",
       "    }\n",
       "\n",
       "    .dataframe tbody tr th {\n",
       "        vertical-align: top;\n",
       "    }\n",
       "\n",
       "    .dataframe thead th {\n",
       "        text-align: right;\n",
       "    }\n",
       "</style>\n",
       "<table border=\"1\" class=\"dataframe\">\n",
       "  <thead>\n",
       "    <tr style=\"text-align: right;\">\n",
       "      <th></th>\n",
       "      <th>Survived</th>\n",
       "      <th>Sex</th>\n",
       "      <th>Age</th>\n",
       "    </tr>\n",
       "    <tr>\n",
       "      <th>PassengerId</th>\n",
       "      <th></th>\n",
       "      <th></th>\n",
       "      <th></th>\n",
       "    </tr>\n",
       "  </thead>\n",
       "  <tbody>\n",
       "    <tr>\n",
       "      <th>1</th>\n",
       "      <td>0</td>\n",
       "      <td>male</td>\n",
       "      <td>22.0</td>\n",
       "    </tr>\n",
       "    <tr>\n",
       "      <th>2</th>\n",
       "      <td>1</td>\n",
       "      <td>female</td>\n",
       "      <td>38.0</td>\n",
       "    </tr>\n",
       "    <tr>\n",
       "      <th>3</th>\n",
       "      <td>1</td>\n",
       "      <td>female</td>\n",
       "      <td>26.0</td>\n",
       "    </tr>\n",
       "    <tr>\n",
       "      <th>4</th>\n",
       "      <td>1</td>\n",
       "      <td>female</td>\n",
       "      <td>35.0</td>\n",
       "    </tr>\n",
       "    <tr>\n",
       "      <th>5</th>\n",
       "      <td>0</td>\n",
       "      <td>male</td>\n",
       "      <td>35.0</td>\n",
       "    </tr>\n",
       "  </tbody>\n",
       "</table>\n",
       "</div>"
      ],
      "text/plain": [
       "             Survived     Sex   Age\n",
       "PassengerId                        \n",
       "1                   0    male  22.0\n",
       "2                   1  female  38.0\n",
       "3                   1  female  26.0\n",
       "4                   1  female  35.0\n",
       "5                   0    male  35.0"
      ]
     },
     "execution_count": 15,
     "metadata": {},
     "output_type": "execute_result"
    }
   ],
   "source": [
    "passengers_data[[\"Survived\", \"Sex\", \"Age\"]].head()"
   ]
  },
  {
   "cell_type": "code",
   "execution_count": 21,
   "metadata": {},
   "outputs": [],
   "source": [
    "features = passengers_data[[\"Sex\", \"Age\"]]\n",
    "result = passengers_data[[\"Survived\"]]\n",
    "\n",
    "X_train, X_test, y_train, y_test = train_test_split(features, result)"
   ]
  },
  {
   "cell_type": "code",
   "execution_count": 38,
   "metadata": {},
   "outputs": [
    {
     "name": "stdout",
     "output_type": "stream",
     "text": [
      "(668, 1)\n",
      "(223, 1)\n"
     ]
    }
   ],
   "source": [
    "scaler = StandardScaler()\n",
    "X_train_only_age = X_train[[\"Age\"]].fillna(value=0, axis=1)\n",
    "# X_train_only_age.Age.unique()\n",
    "scaler.fit(X_train_only_age)\n",
    "scaled_X_train_only_age = scaler.transform(X_train_only_age)\n",
    "scaled_X_test_only_age = scaler.transform(X_test[[\"Age\"]].fillna(value=0, axis=1))\n",
    "\n",
    "print(scaled_X_train_only_age.shape)\n",
    "print(scaled_X_test_only_age.shape)"
   ]
  },
  {
   "cell_type": "code",
   "execution_count": 52,
   "metadata": {},
   "outputs": [
    {
     "data": {
      "text/plain": [
       "(223, 1)"
      ]
     },
     "execution_count": 52,
     "metadata": {},
     "output_type": "execute_result"
    }
   ],
   "source": [
    "X_train_is_male = X_train[[\"Sex\"]].replace({\"Sex\": {\"male\": True, \"female\": False}}).values\n",
    "X_test_is_male = X_test[[\"Sex\"]].replace({\"Sex\": {\"male\": True, \"female\": False}}).values\n",
    "\n",
    "\n",
    "X_test_is_male.shape"
   ]
  },
  {
   "cell_type": "code",
   "execution_count": 64,
   "metadata": {},
   "outputs": [
    {
     "data": {
      "text/plain": [
       "(668, 2)"
      ]
     },
     "execution_count": 64,
     "metadata": {},
     "output_type": "execute_result"
    }
   ],
   "source": [
    "import numpy as np\n",
    "\n",
    "a = np.array([[1], [2], [3]])\n",
    "b = np.array([[4], [5], [6]])\n",
    "\n",
    "X_train_scaled = np.concatenate((scaled_X_train_only_age, X_train_is_male), axis=1)\n",
    "X_test_scaled = np.concatenate((scaled_X_test_only_age, X_test_is_male), axis=1)\n",
    "\n",
    "X_train_scaled.shape"
   ]
  },
  {
   "cell_type": "code",
   "execution_count": 66,
   "metadata": {},
   "outputs": [
    {
     "name": "stdout",
     "output_type": "stream",
     "text": [
      "Iteration 1, loss = 0.69693142\n",
      "Iteration 2, loss = 0.69251794\n",
      "Iteration 3, loss = 0.68859848\n",
      "Iteration 4, loss = 0.68472816\n",
      "Iteration 5, loss = 0.68119525\n",
      "Iteration 6, loss = 0.67776609\n",
      "Iteration 7, loss = 0.67467497\n",
      "Iteration 8, loss = 0.67162491\n",
      "Iteration 9, loss = 0.66869537\n",
      "Iteration 10, loss = 0.66590128\n",
      "Iteration 11, loss = 0.66308964\n",
      "Iteration 12, loss = 0.66048421\n",
      "Iteration 13, loss = 0.65810817\n",
      "Iteration 14, loss = 0.65550279\n",
      "Iteration 15, loss = 0.65300476\n",
      "Iteration 16, loss = 0.65063779\n",
      "Iteration 17, loss = 0.64825791\n",
      "Iteration 18, loss = 0.64597722\n",
      "Iteration 19, loss = 0.64360583\n",
      "Iteration 20, loss = 0.64145640\n",
      "Iteration 21, loss = 0.63920050\n",
      "Iteration 22, loss = 0.63704875\n",
      "Iteration 23, loss = 0.63496230\n",
      "Iteration 24, loss = 0.63280947\n",
      "Iteration 25, loss = 0.63095469\n",
      "Iteration 26, loss = 0.62885212\n",
      "Iteration 27, loss = 0.62693646\n",
      "Iteration 28, loss = 0.62503501\n",
      "Iteration 29, loss = 0.62306251\n",
      "Iteration 30, loss = 0.62111932\n",
      "Iteration 31, loss = 0.61920767\n",
      "Iteration 32, loss = 0.61727257\n",
      "Iteration 33, loss = 0.61541517\n",
      "Iteration 34, loss = 0.61354931\n",
      "Iteration 35, loss = 0.61169559\n",
      "Iteration 36, loss = 0.60997939\n",
      "Iteration 37, loss = 0.60822108\n",
      "Iteration 38, loss = 0.60641561\n",
      "Iteration 39, loss = 0.60468441\n",
      "Iteration 40, loss = 0.60292855\n",
      "Iteration 41, loss = 0.60122608\n",
      "Iteration 42, loss = 0.59937157\n",
      "Iteration 43, loss = 0.59759574\n",
      "Iteration 44, loss = 0.59580336\n",
      "Iteration 45, loss = 0.59390600\n",
      "Iteration 46, loss = 0.59210058\n",
      "Iteration 47, loss = 0.59014324\n",
      "Iteration 48, loss = 0.58832562\n",
      "Iteration 49, loss = 0.58628670\n",
      "Iteration 50, loss = 0.58449329\n",
      "Iteration 51, loss = 0.58261384\n",
      "Iteration 52, loss = 0.58063622\n",
      "Iteration 53, loss = 0.57877085\n",
      "Iteration 54, loss = 0.57683142\n",
      "Iteration 55, loss = 0.57493192\n",
      "Iteration 56, loss = 0.57299463\n",
      "Iteration 57, loss = 0.57113530\n",
      "Iteration 58, loss = 0.56927441\n",
      "Iteration 59, loss = 0.56747372\n",
      "Iteration 60, loss = 0.56553700\n",
      "Iteration 61, loss = 0.56379497\n",
      "Iteration 62, loss = 0.56195136\n",
      "Iteration 63, loss = 0.56013887\n",
      "Iteration 64, loss = 0.55829121\n",
      "Iteration 65, loss = 0.55652505\n",
      "Iteration 66, loss = 0.55480830\n",
      "Iteration 67, loss = 0.55313056\n",
      "Iteration 68, loss = 0.55128032\n",
      "Iteration 69, loss = 0.54959461\n",
      "Iteration 70, loss = 0.54785573\n",
      "Iteration 71, loss = 0.54617659\n",
      "Iteration 72, loss = 0.54449467\n",
      "Iteration 73, loss = 0.54295460\n",
      "Iteration 74, loss = 0.54130853\n",
      "Iteration 75, loss = 0.53973628\n",
      "Iteration 76, loss = 0.53819862\n",
      "Iteration 77, loss = 0.53672544\n",
      "Iteration 78, loss = 0.53515593\n",
      "Iteration 79, loss = 0.53366819\n",
      "Iteration 80, loss = 0.53235873\n",
      "Iteration 81, loss = 0.53089731\n",
      "Iteration 82, loss = 0.52952928\n",
      "Iteration 83, loss = 0.52817367\n",
      "Iteration 84, loss = 0.52687617\n",
      "Iteration 85, loss = 0.52546165\n",
      "Iteration 86, loss = 0.52427396\n",
      "Iteration 87, loss = 0.52303118\n",
      "Iteration 88, loss = 0.52184236\n",
      "Iteration 89, loss = 0.52066697\n",
      "Iteration 90, loss = 0.51957373\n",
      "Iteration 91, loss = 0.51846523\n",
      "Iteration 92, loss = 0.51741091\n",
      "Iteration 93, loss = 0.51635836\n",
      "Iteration 94, loss = 0.51530293\n",
      "Iteration 95, loss = 0.51427915\n",
      "Iteration 96, loss = 0.51341925\n",
      "Iteration 97, loss = 0.51250289\n",
      "Iteration 98, loss = 0.51157411\n",
      "Iteration 99, loss = 0.51074885\n",
      "Iteration 100, loss = 0.50999597\n",
      "Iteration 101, loss = 0.50918857\n",
      "Iteration 102, loss = 0.50847794\n",
      "Iteration 103, loss = 0.50776948\n",
      "Iteration 104, loss = 0.50712680\n",
      "Iteration 105, loss = 0.50644405\n",
      "Iteration 106, loss = 0.50586951\n",
      "Iteration 107, loss = 0.50519452\n",
      "Iteration 108, loss = 0.50465203\n",
      "Iteration 109, loss = 0.50407154\n",
      "Iteration 110, loss = 0.50346632\n",
      "Iteration 111, loss = 0.50283454\n",
      "Iteration 112, loss = 0.50240296\n",
      "Iteration 113, loss = 0.50187065\n",
      "Iteration 114, loss = 0.50130885\n",
      "Iteration 115, loss = 0.50088601\n",
      "Iteration 116, loss = 0.50043848\n",
      "Iteration 117, loss = 0.50004517\n",
      "Iteration 118, loss = 0.49967322\n",
      "Iteration 119, loss = 0.49921693\n",
      "Iteration 120, loss = 0.49890790\n",
      "Iteration 121, loss = 0.49848506\n",
      "Iteration 122, loss = 0.49820247\n",
      "Iteration 123, loss = 0.49790722\n",
      "Iteration 124, loss = 0.49762643\n",
      "Iteration 125, loss = 0.49731489\n",
      "Iteration 126, loss = 0.49708646\n",
      "Iteration 127, loss = 0.49684684\n",
      "Iteration 128, loss = 0.49661886\n",
      "Iteration 129, loss = 0.49639823\n",
      "Iteration 130, loss = 0.49617414\n",
      "Iteration 131, loss = 0.49595541\n",
      "Iteration 132, loss = 0.49579519\n",
      "Iteration 133, loss = 0.49570127\n",
      "Iteration 134, loss = 0.49553407\n",
      "Iteration 135, loss = 0.49537008\n",
      "Iteration 136, loss = 0.49522527\n",
      "Iteration 137, loss = 0.49513634\n",
      "Iteration 138, loss = 0.49497436\n",
      "Iteration 139, loss = 0.49490066\n",
      "Iteration 140, loss = 0.49475009\n",
      "Iteration 141, loss = 0.49471340\n",
      "Iteration 142, loss = 0.49463322\n",
      "Iteration 143, loss = 0.49452154\n",
      "Iteration 144, loss = 0.49441551\n",
      "Iteration 145, loss = 0.49436015\n",
      "Iteration 146, loss = 0.49431349\n",
      "Iteration 147, loss = 0.49418117\n",
      "Iteration 148, loss = 0.49412552\n",
      "Iteration 149, loss = 0.49404762\n",
      "Iteration 150, loss = 0.49398607\n",
      "Training loss did not improve more than tol=0.000100 for two consecutive epochs. Stopping.\n"
     ]
    },
    {
     "name": "stderr",
     "output_type": "stream",
     "text": [
      "/Users/orion/.pyenv/versions/3.6.3/envs/titanic/lib/python3.6/site-packages/sklearn/neural_network/multilayer_perceptron.py:912: DataConversionWarning: A column-vector y was passed when a 1d array was expected. Please change the shape of y to (n_samples, ), for example using ravel().\n",
      "  y = column_or_1d(y, warn=True)\n"
     ]
    },
    {
     "data": {
      "text/plain": [
       "MLPClassifier(activation='relu', alpha=0.0001, batch_size='auto', beta_1=0.9,\n",
       "       beta_2=0.999, early_stopping=False, epsilon=1e-08,\n",
       "       hidden_layer_sizes=13, learning_rate='constant',\n",
       "       learning_rate_init=0.001, max_iter=500, momentum=0.9,\n",
       "       nesterovs_momentum=True, power_t=0.5, random_state=None,\n",
       "       shuffle=True, solver='adam', tol=0.0001, validation_fraction=0.1,\n",
       "       verbose=True, warm_start=False)"
      ]
     },
     "execution_count": 66,
     "metadata": {},
     "output_type": "execute_result"
    }
   ],
   "source": [
    "mlp = MLPClassifier(hidden_layer_sizes=(13),max_iter=500,verbose=True)\n",
    "mlp.fit(X_train_scaled,y_train)"
   ]
  },
  {
   "cell_type": "code",
   "execution_count": 68,
   "metadata": {},
   "outputs": [
    {
     "data": {
      "text/plain": [
       "array([0, 0, 1, 0, 0, 0, 0, 1, 0, 1, 0, 0, 1, 1, 1, 1, 0, 0, 0, 0, 0, 1, 0,\n",
       "       0, 0, 0, 0, 0, 0, 1, 0, 0, 0, 0, 1, 0, 0, 0, 0, 1, 0, 1, 1, 0, 0, 1,\n",
       "       0, 0, 0, 1, 1, 0, 1, 1, 0, 1, 0, 0, 0, 0, 0, 0, 0, 0, 1, 1, 1, 0, 0,\n",
       "       1, 0, 0, 1, 0, 1, 0, 0, 0, 1, 1, 1, 0, 0, 0, 0, 0, 1, 0, 0, 0, 0, 1,\n",
       "       0, 0, 0, 0, 1, 0, 0, 0, 0, 1, 1, 0, 1, 1, 1, 0, 1, 1, 0, 1, 0, 1, 1,\n",
       "       0, 1, 0, 0, 1, 1, 0, 1, 1, 1, 0, 1, 1, 0, 0, 1, 0, 1, 0, 1, 0, 0, 0,\n",
       "       1, 0, 0, 0, 0, 1, 1, 0, 1, 0, 0, 1, 0, 1, 0, 0, 0, 0, 1, 1, 0, 0, 1,\n",
       "       0, 0, 0, 1, 0, 0, 0, 1, 0, 1, 0, 1, 1, 0, 0, 1, 0, 0, 1, 1, 1, 0, 0,\n",
       "       1, 0, 1, 0, 1, 0, 0, 1, 0, 0, 0, 0, 0, 1, 0, 1, 1, 0, 0, 0, 1, 0, 0,\n",
       "       0, 0, 0, 0, 0, 0, 0, 0, 1, 0, 1, 1, 1, 0, 0, 0])"
      ]
     },
     "execution_count": 68,
     "metadata": {},
     "output_type": "execute_result"
    }
   ],
   "source": [
    "predictions = mlp.predict(X_test_scaled)\n",
    "predictions"
   ]
  },
  {
   "cell_type": "code",
   "execution_count": 71,
   "metadata": {},
   "outputs": [
    {
     "name": "stdout",
     "output_type": "stream",
     "text": [
      "             precision    recall  f1-score   support\n",
      "\n",
      "          0       0.77      0.83      0.80       130\n",
      "          1       0.73      0.65      0.69        93\n",
      "\n",
      "avg / total       0.75      0.75      0.75       223\n",
      "\n"
     ]
    }
   ],
   "source": [
    "print(classification_report(y_test,predictions))"
   ]
  },
  {
   "cell_type": "code",
   "execution_count": null,
   "metadata": {},
   "outputs": [],
   "source": []
  }
 ],
 "metadata": {
  "kernelspec": {
   "display_name": "Python 3",
   "language": "python",
   "name": "python3"
  },
  "language_info": {
   "codemirror_mode": {
    "name": "ipython",
    "version": 3
   },
   "file_extension": ".py",
   "mimetype": "text/x-python",
   "name": "python",
   "nbconvert_exporter": "python",
   "pygments_lexer": "ipython3",
   "version": "3.6.3"
  }
 },
 "nbformat": 4,
 "nbformat_minor": 2
}
